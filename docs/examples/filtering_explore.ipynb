{
 "cells": [
  {
   "cell_type": "code",
   "execution_count": 1,
   "metadata": {},
   "outputs": [],
   "source": [
    "from snow_pc import prepare_pc\n",
    "from snow_pc.filtering import return_filtering, elm_filtering, outlier_filtering, dem_filtering, ground_segmentation"
   ]
  },
  {
   "cell_type": "markdown",
   "metadata": {},
   "source": [
    "Workflow\n",
    "\n",
    "- return filtering\n",
    "- dem filtering\n",
    "- elm filtering\n",
    "- outlier filtering\n",
    "- smrf "
   ]
  },
  {
   "cell_type": "code",
   "execution_count": 5,
   "metadata": {},
   "outputs": [
    {
     "data": {
      "text/plain": [
       "'C:\\\\Users\\\\naheemadebisi\\\\Downloads\\\\dev_work\\\\explore\\\\20240213_MCS_Pre\\\\snow-pc\\\\results\\\\returns_filtered.laz'"
      ]
     },
     "execution_count": 5,
     "metadata": {},
     "output_type": "execute_result"
    }
   ],
   "source": [
    "# return_filtering(r'C:\\Users\\naheemadebisi\\Downloads\\dev_work\\explore\\20240213_MCS_Pre\\snow-pc\\results\\unfiltered_merge.laz')"
   ]
  },
  {
   "cell_type": "code",
   "execution_count": 6,
   "metadata": {},
   "outputs": [
    {
     "data": {
      "text/plain": [
       "'C:\\\\Users\\\\naheemadebisi\\\\Downloads\\\\dev_work\\\\explore\\\\20240213_MCS_Pre\\\\snow-pc\\\\results\\\\dem_filtered.laz'"
      ]
     },
     "execution_count": 6,
     "metadata": {},
     "output_type": "execute_result"
    }
   ],
   "source": [
    "# dem_filtering(r'C:\\Users\\naheemadebisi\\Downloads\\dev_work\\explore\\20240213_MCS_Pre\\snow-pc\\results\\returns_filtered.laz', r\"C:\\Users\\naheemadebisi\\Downloads\\dev_work\\dem.tif\", dem_low= 10, dem_high=50)"
   ]
  },
  {
   "cell_type": "code",
   "execution_count": 7,
   "metadata": {},
   "outputs": [
    {
     "data": {
      "text/plain": [
       "'C:\\\\Users\\\\naheemadebisi\\\\Downloads\\\\dev_work\\\\explore\\\\20240213_MCS_Pre\\\\snow-pc\\\\results\\\\elm_filtered.laz'"
      ]
     },
     "execution_count": 7,
     "metadata": {},
     "output_type": "execute_result"
    }
   ],
   "source": [
    "# elm_filtering('C:\\\\Users\\\\naheemadebisi\\\\Downloads\\\\dev_work\\\\explore\\\\20240213_MCS_Pre\\\\snow-pc\\\\results\\\\dem_filtered.laz')"
   ]
  },
  {
   "cell_type": "code",
   "execution_count": 8,
   "metadata": {},
   "outputs": [
    {
     "data": {
      "text/plain": [
       "'C:\\\\Users\\\\naheemadebisi\\\\Downloads\\\\dev_work\\\\explore\\\\20240213_MCS_Pre\\\\snow-pc\\\\results\\\\outlier_filtered.laz'"
      ]
     },
     "execution_count": 8,
     "metadata": {},
     "output_type": "execute_result"
    }
   ],
   "source": [
    "# outlier_filtering('C:\\\\Users\\\\naheemadebisi\\\\Downloads\\\\dev_work\\\\explore\\\\20240213_MCS_Pre\\\\snow-pc\\\\results\\\\elm_filtered.laz', multiplier=2.5)"
   ]
  },
  {
   "cell_type": "code",
   "execution_count": 4,
   "metadata": {},
   "outputs": [
    {
     "data": {
      "text/plain": [
       "'C:\\\\Users\\\\naheemadebisi\\\\Downloads\\\\dev_work\\\\explore\\\\20240213_MCS_Pre\\\\snow-pc\\\\results\\\\dem_filtered.laz'"
      ]
     },
     "execution_count": 4,
     "metadata": {},
     "output_type": "execute_result"
    }
   ],
   "source": [
    "# dem_filtering(r'C:\\Users\\naheemadebisi\\Downloads\\dev_work\\explore\\20240213_MCS_Pre\\snow-pc\\results\\outlier_filtered.laz', r\"C:\\Users\\naheemadebisi\\Downloads\\dev_work\\dem.tif\", dem_low= 10, dem_high=50)"
   ]
  },
  {
   "cell_type": "code",
   "execution_count": 2,
   "metadata": {},
   "outputs": [
    {
     "data": {
      "text/plain": [
       "'C:\\\\Users\\\\naheemadebisi\\\\Downloads\\\\dev_work\\\\explore\\\\20240213_MCS_Pre\\\\snow-pc\\\\results\\\\ground_segmented.laz'"
      ]
     },
     "execution_count": 2,
     "metadata": {},
     "output_type": "execute_result"
    }
   ],
   "source": [
    "# ground_segmentation('C:\\\\Users\\\\naheemadebisi\\\\Downloads\\\\dev_work\\\\explore\\\\20240213_MCS_Pre\\\\snow-pc\\\\results\\\\outlier_filtered.laz')"
   ]
  },
  {
   "cell_type": "code",
   "execution_count": null,
   "metadata": {},
   "outputs": [],
   "source": []
  }
 ],
 "metadata": {
  "kernelspec": {
   "display_name": "geo",
   "language": "python",
   "name": "python3"
  },
  "language_info": {
   "codemirror_mode": {
    "name": "ipython",
    "version": 3
   },
   "file_extension": ".py",
   "mimetype": "text/x-python",
   "name": "python",
   "nbconvert_exporter": "python",
   "pygments_lexer": "ipython3",
   "version": "3.12.1"
  }
 },
 "nbformat": 4,
 "nbformat_minor": 2
}
