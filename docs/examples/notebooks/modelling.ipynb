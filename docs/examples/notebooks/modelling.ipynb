{
 "cells": [
  {
   "cell_type": "code",
   "execution_count": 1,
   "metadata": {},
   "outputs": [],
   "source": [
    "from snow_pc.modeling import terrain_models, surface_models\n",
    "import leafmap"
   ]
  },
  {
   "cell_type": "code",
   "execution_count": 19,
   "metadata": {},
   "outputs": [],
   "source": [
    "# laz_fp = r'C:\\Users\\naheemadebisi\\Downloads\\dev_work\\explore_data\\20240213_MCS_Pre_1\\20240213_v1-240213_190028_Scanner_1.laz'\n",
    "# dem_fp = r'C:\\Users\\naheemadebisi\\Downloads\\dev_work\\dem.tif'"
   ]
  },
  {
   "cell_type": "code",
   "execution_count": 21,
   "metadata": {},
   "outputs": [],
   "source": [
    "# leafmap.view_lidar(laz_fp)"
   ]
  },
  {
   "cell_type": "code",
   "execution_count": 20,
   "metadata": {},
   "outputs": [],
   "source": [
    "# dtm_laz, dtm_tif = terrain_models(laz_fp, dem_fp = dem_fp)\n",
    "# dsm_laz, dsm_tif = surface_models(laz_fp, dem_fp = dem_fp) "
   ]
  },
  {
   "cell_type": "markdown",
   "metadata": {},
   "source": [
    "## Photogrammetry point clouds"
   ]
  },
  {
   "cell_type": "code",
   "execution_count": 3,
   "metadata": {},
   "outputs": [],
   "source": [
    "laz_fp = '/SNOWDATA/IDALS/2024/20231113/20231113_MCS_UPS/20231113_UPS_shifted_classified.laz'\n",
    "dem_fp = '/SNOWDATA/IDALS/REF_DEM/MCS_REFDEM_WGS84.tif'"
   ]
  },
  {
   "cell_type": "code",
   "execution_count": 1,
   "metadata": {},
   "outputs": [],
   "source": [
    "# leafmap.view_lidar(laz_fp)"
   ]
  },
  {
   "cell_type": "code",
   "execution_count": 5,
   "metadata": {},
   "outputs": [],
   "source": [
    "dtm_laz, dtm_tif = terrain_models(laz_fp, user_dem = dem_fp, lidar_pc = 'no')\n",
    "dsm_laz, dsm_tif = surface_models(laz_fp, user_dem = dem_fp, lidar_pc = 'no') "
   ]
  },
  {
   "cell_type": "markdown",
   "metadata": {},
   "source": [
    "## DEM filtering analysis for ALS, ULS and UAV\n"
   ]
  },
  {
   "cell_type": "code",
   "execution_count": 3,
   "metadata": {},
   "outputs": [],
   "source": [
    "from snow_pc.filtering import return_filtering, elm_filtering, outlier_filtering, dem_filtering, ground_segmentation\n",
    "import leafmap"
   ]
  },
  {
   "cell_type": "code",
   "execution_count": 5,
   "metadata": {},
   "outputs": [],
   "source": [
    "def explore_lidar(filename):\n",
    "    las = leafmap.read_lidar(filename)\n",
    "    print(las.header.point_count)"
   ]
  },
  {
   "cell_type": "markdown",
   "metadata": {},
   "source": [
    "### ULS"
   ]
  },
  {
   "cell_type": "code",
   "execution_count": 3,
   "metadata": {},
   "outputs": [],
   "source": [
    "ULS_laz = '/SNOWDATA/IDALS/2024/20231113/20231113_MCS_ULS/snow-pc/results/unfiltered_merge.laz'\n",
    "dem_fp = '/SNOWDATA/IDALS/REF_DEM/MCS_REFDEM_WGS84.tif'"
   ]
  },
  {
   "cell_type": "code",
   "execution_count": 4,
   "metadata": {},
   "outputs": [
    {
     "name": "stdout",
     "output_type": "stream",
     "text": [
      "18405812\n"
     ]
    }
   ],
   "source": [
    "explore_lidar(ULS_laz)"
   ]
  },
  {
   "cell_type": "code",
   "execution_count": 5,
   "metadata": {},
   "outputs": [],
   "source": [
    "return_filter = return_filtering(ULS_laz)"
   ]
  },
  {
   "cell_type": "code",
   "execution_count": 8,
   "metadata": {},
   "outputs": [
    {
     "data": {
      "text/plain": [
       "'returns_filtered.laz'"
      ]
     },
     "execution_count": 8,
     "metadata": {},
     "output_type": "execute_result"
    }
   ],
   "source": [
    "return_filter"
   ]
  },
  {
   "cell_type": "code",
   "execution_count": 6,
   "metadata": {},
   "outputs": [
    {
     "name": "stdout",
     "output_type": "stream",
     "text": [
      "18405812\n"
     ]
    }
   ],
   "source": [
    "explore_lidar(return_filter)"
   ]
  },
  {
   "cell_type": "code",
   "execution_count": 9,
   "metadata": {},
   "outputs": [],
   "source": [
    "dem_filter = dem_filtering('/SNOWDATA/IDALS/2024/20231113/20231113_MCS_ULS/snow-pc/results/returns_filtered.laz', \n",
    "              user_dem= dem_fp, dem_low= 10, dem_high=50)"
   ]
  },
  {
   "cell_type": "code",
   "execution_count": 10,
   "metadata": {},
   "outputs": [
    {
     "name": "stdout",
     "output_type": "stream",
     "text": [
      "18405808\n"
     ]
    }
   ],
   "source": [
    "explore_lidar(dem_filter)"
   ]
  },
  {
   "cell_type": "code",
   "execution_count": 11,
   "metadata": {},
   "outputs": [],
   "source": [
    "elm_filter = elm_filtering('/SNOWDATA/IDALS/2024/20231113/20231113_MCS_ULS/snow-pc/results/dem_filtered.laz')"
   ]
  },
  {
   "cell_type": "code",
   "execution_count": 12,
   "metadata": {},
   "outputs": [
    {
     "name": "stdout",
     "output_type": "stream",
     "text": [
      "18405808\n"
     ]
    }
   ],
   "source": [
    "explore_lidar(elm_filter)"
   ]
  },
  {
   "cell_type": "code",
   "execution_count": 13,
   "metadata": {},
   "outputs": [],
   "source": [
    "outlier_filter = outlier_filtering('/SNOWDATA/IDALS/2024/20231113/20231113_MCS_ULS/snow-pc/results/elm_filtered.laz', multiplier=2.5)"
   ]
  },
  {
   "cell_type": "code",
   "execution_count": 14,
   "metadata": {},
   "outputs": [
    {
     "name": "stdout",
     "output_type": "stream",
     "text": [
      "18405808\n"
     ]
    }
   ],
   "source": [
    "explore_lidar(outlier_filter)"
   ]
  },
  {
   "cell_type": "code",
   "execution_count": 15,
   "metadata": {},
   "outputs": [],
   "source": [
    "ground_filter = ground_segmentation('/SNOWDATA/IDALS/2024/20231113/20231113_MCS_ULS/snow-pc/results/outlier_filtered.laz')"
   ]
  },
  {
   "cell_type": "code",
   "execution_count": 19,
   "metadata": {},
   "outputs": [
    {
     "name": "stdout",
     "output_type": "stream",
     "text": [
      "11365941\n"
     ]
    }
   ],
   "source": [
    "explore_lidar('/SNOWDATA/IDALS/2024/20231113/20231113_MCS_ULS/snow-pc/results/ground_segmented.laz')"
   ]
  },
  {
   "cell_type": "markdown",
   "metadata": {},
   "source": [
    "### UPS"
   ]
  },
  {
   "cell_type": "code",
   "execution_count": 20,
   "metadata": {},
   "outputs": [],
   "source": [
    "UPS_laz = '/SNOWDATA/IDALS/2024/20231113/20231113_MCS_UPS/20231113_UPS_shifted_classified.laz'\n",
    "dem_fp = '/SNOWDATA/IDALS/REF_DEM/MCS_REFDEM_WGS84.tif'"
   ]
  },
  {
   "cell_type": "code",
   "execution_count": 21,
   "metadata": {},
   "outputs": [
    {
     "name": "stdout",
     "output_type": "stream",
     "text": [
      "88972308\n"
     ]
    }
   ],
   "source": [
    "explore_lidar(UPS_laz)"
   ]
  },
  {
   "cell_type": "code",
   "execution_count": 22,
   "metadata": {},
   "outputs": [],
   "source": [
    "return_filter = return_filtering(UPS_laz)"
   ]
  },
  {
   "cell_type": "code",
   "execution_count": 23,
   "metadata": {},
   "outputs": [
    {
     "name": "stdout",
     "output_type": "stream",
     "text": [
      "88972308\n"
     ]
    }
   ],
   "source": [
    "explore_lidar(return_filter)"
   ]
  },
  {
   "cell_type": "code",
   "execution_count": 24,
   "metadata": {},
   "outputs": [],
   "source": [
    "dem_filter = dem_filtering(UPS_laz, \n",
    "              user_dem= dem_fp, dem_low= 10, dem_high=50)"
   ]
  },
  {
   "cell_type": "code",
   "execution_count": 25,
   "metadata": {},
   "outputs": [
    {
     "name": "stdout",
     "output_type": "stream",
     "text": [
      "88967547\n"
     ]
    }
   ],
   "source": [
    "explore_lidar(dem_filter)"
   ]
  },
  {
   "cell_type": "code",
   "execution_count": 26,
   "metadata": {},
   "outputs": [
    {
     "name": "stdout",
     "output_type": "stream",
     "text": [
      "88967547\n"
     ]
    }
   ],
   "source": [
    "elm_filter = elm_filtering('/SNOWDATA/IDALS/2024/20231113/20231113_MCS_UPS/dem_filtered.laz')\n",
    "explore_lidar(elm_filter)"
   ]
  },
  {
   "cell_type": "code",
   "execution_count": 27,
   "metadata": {},
   "outputs": [
    {
     "name": "stdout",
     "output_type": "stream",
     "text": [
      "88967547\n"
     ]
    }
   ],
   "source": [
    "outlier_filter = outlier_filtering('/SNOWDATA/IDALS/2024/20231113/20231113_MCS_UPS/elm_filtered.laz', multiplier=2.5)\n",
    "explore_lidar(outlier_filter)"
   ]
  },
  {
   "cell_type": "code",
   "execution_count": 2,
   "metadata": {},
   "outputs": [],
   "source": [
    "ground_filter = ground_segmentation('/SNOWDATA/IDALS/2024/20231113/20231113_MCS_UPS/outlier_filtered.laz', lidar_pc= 'no')"
   ]
  },
  {
   "cell_type": "code",
   "execution_count": 5,
   "metadata": {},
   "outputs": [
    {
     "name": "stdout",
     "output_type": "stream",
     "text": [
      "58535763\n"
     ]
    }
   ],
   "source": [
    "explore_lidar('/SNOWDATA/IDALS/2024/20231113/20231113_MCS_UPS/ground_segmented.laz')"
   ]
  },
  {
   "cell_type": "code",
   "execution_count": 1,
   "metadata": {},
   "outputs": [],
   "source": [
    "# leafmap.whiteboxgui()"
   ]
  },
  {
   "cell_type": "code",
   "execution_count": 2,
   "metadata": {},
   "outputs": [
    {
     "data": {
      "text/plain": [
       "CompletedProcess(args=['pdal', 'pipeline', 'pipeline.json'], returncode=0)"
      ]
     },
     "execution_count": 2,
     "metadata": {},
     "output_type": "execute_result"
    }
   ],
   "source": [
    "import geopandas as gpd\n",
    "import json\n",
    "import subprocess\n",
    "\n",
    "# Load the shapefile\n",
    "gdf = gpd.read_file('/SNOWDATA/IDALS/2024/20231113/ULS_Polygon/ULS.shp')\n",
    "\n",
    "# Convert the first geometry in the shapefile to WKT format\n",
    "polygon = gdf['geometry'][0].wkt\n",
    "\n",
    "# Create a PDAL pipeline to clip the LiDAR file\n",
    "pipeline = {\n",
    "    \"pipeline\": [\n",
    "        \"/SNOWDATA/IDALS/2024/20231113/20231113_MCS/ice-road/results/unfiltered_merge.laz\",\n",
    "        {\n",
    "            \"type\": \"filters.crop\",\n",
    "            \"polygon\": polygon\n",
    "        },\n",
    "        \"/SNOWDATA/IDALS/2024/20231113/20231113_MCS_ALS_clip/unfiltered.laz\"\n",
    "    ]\n",
    "}\n",
    "\n",
    "# Write the pipeline to a JSON file\n",
    "with open('pipeline.json', 'w') as f:\n",
    "    json.dump(pipeline, f)\n",
    "\n",
    "# Run the PDAL pipeline\n",
    "subprocess.run(['pdal', 'pipeline', 'pipeline.json'])"
   ]
  },
  {
   "cell_type": "markdown",
   "metadata": {},
   "source": [
    "### ALS"
   ]
  },
  {
   "cell_type": "code",
   "execution_count": 6,
   "metadata": {},
   "outputs": [
    {
     "name": "stdout",
     "output_type": "stream",
     "text": [
      "8633780\n"
     ]
    }
   ],
   "source": [
    "ALS_laz = '/SNOWDATA/IDALS/2024/20231113/20231113_MCS_ALS_clip/unfiltered.laz'\n",
    "dem_fp = '/SNOWDATA/IDALS/REF_DEM/MCS_REFDEM_WGS84.tif'\n",
    "explore_lidar(ALS_laz)"
   ]
  },
  {
   "cell_type": "code",
   "execution_count": 7,
   "metadata": {},
   "outputs": [
    {
     "name": "stdout",
     "output_type": "stream",
     "text": [
      "8633780\n"
     ]
    }
   ],
   "source": [
    "return_filter = return_filtering(ALS_laz)\n",
    "explore_lidar(return_filter)"
   ]
  },
  {
   "cell_type": "code",
   "execution_count": 13,
   "metadata": {},
   "outputs": [
    {
     "name": "stdout",
     "output_type": "stream",
     "text": [
      "8581131\n"
     ]
    }
   ],
   "source": [
    "dem_filter = dem_filtering('/SNOWDATA/IDALS/2024/20231113/20231113_MCS_ALS_clip/returns_filtered.laz', \n",
    "              user_dem= dem_fp, dem_low= 10, dem_high=30)\n",
    "explore_lidar(dem_filter)"
   ]
  },
  {
   "cell_type": "code",
   "execution_count": 14,
   "metadata": {},
   "outputs": [
    {
     "name": "stdout",
     "output_type": "stream",
     "text": [
      "8581131\n"
     ]
    }
   ],
   "source": [
    "elm_filter = elm_filtering('/SNOWDATA/IDALS/2024/20231113/20231113_MCS_ALS_clip/dem_filtered.laz')\n",
    "explore_lidar(elm_filter)"
   ]
  },
  {
   "cell_type": "code",
   "execution_count": 15,
   "metadata": {},
   "outputs": [
    {
     "name": "stdout",
     "output_type": "stream",
     "text": [
      "8581131\n"
     ]
    }
   ],
   "source": [
    "outlier_filter = outlier_filtering('/SNOWDATA/IDALS/2024/20231113/20231113_MCS_ALS_clip/elm_filtered.laz', multiplier=2.5)\n",
    "explore_lidar(outlier_filter)"
   ]
  },
  {
   "cell_type": "code",
   "execution_count": 16,
   "metadata": {},
   "outputs": [],
   "source": [
    "ground_filter = ground_segmentation('/SNOWDATA/IDALS/2024/20231113/20231113_MCS_ALS_clip/outlier_filtered.laz')"
   ]
  },
  {
   "cell_type": "code",
   "execution_count": 17,
   "metadata": {},
   "outputs": [
    {
     "name": "stdout",
     "output_type": "stream",
     "text": [
      "5480903\n"
     ]
    }
   ],
   "source": [
    "explore_lidar('/SNOWDATA/IDALS/2024/20231113/20231113_MCS_ALS_clip/ground_segmented.laz')"
   ]
  },
  {
   "cell_type": "markdown",
   "metadata": {},
   "source": []
  }
 ],
 "metadata": {
  "kernelspec": {
   "display_name": "geo",
   "language": "python",
   "name": "python3"
  },
  "language_info": {
   "codemirror_mode": {
    "name": "ipython",
    "version": 3
   },
   "file_extension": ".py",
   "mimetype": "text/x-python",
   "name": "python",
   "nbconvert_exporter": "python",
   "pygments_lexer": "ipython3",
   "version": "3.12.2"
  }
 },
 "nbformat": 4,
 "nbformat_minor": 2
}
