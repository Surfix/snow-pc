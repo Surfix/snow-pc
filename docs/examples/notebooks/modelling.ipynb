{
 "cells": [
  {
   "cell_type": "code",
   "execution_count": 1,
   "metadata": {},
   "outputs": [],
   "source": [
    "from snow_pc.modeling import terrain_models, surface_models\n",
    "import leafmap\n"
   ]
  },
  {
   "cell_type": "code",
   "execution_count": 19,
   "metadata": {},
   "outputs": [],
   "source": [
    "# laz_fp = r'C:\\Users\\naheemadebisi\\Downloads\\dev_work\\explore_data\\20240213_MCS_Pre_1\\20240213_v1-240213_190028_Scanner_1.laz'\n",
    "# dem_fp = r'C:\\Users\\naheemadebisi\\Downloads\\dev_work\\dem.tif'"
   ]
  },
  {
   "cell_type": "code",
   "execution_count": 21,
   "metadata": {},
   "outputs": [],
   "source": [
    "# leafmap.view_lidar(laz_fp)"
   ]
  },
  {
   "cell_type": "code",
   "execution_count": 20,
   "metadata": {},
   "outputs": [],
   "source": [
    "# dtm_laz, dtm_tif = terrain_models(laz_fp, dem_fp = dem_fp)\n",
    "# dsm_laz, dsm_tif = surface_models(laz_fp, dem_fp = dem_fp) "
   ]
  }
 ],
 "metadata": {
  "kernelspec": {
   "display_name": "geo",
   "language": "python",
   "name": "python3"
  },
  "language_info": {
   "codemirror_mode": {
    "name": "ipython",
    "version": 3
   },
   "file_extension": ".py",
   "mimetype": "text/x-python",
   "name": "python",
   "nbconvert_exporter": "python",
   "pygments_lexer": "ipython3",
   "version": "3.12.1"
  }
 },
 "nbformat": 4,
 "nbformat_minor": 2
}
