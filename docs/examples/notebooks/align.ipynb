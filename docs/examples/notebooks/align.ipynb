{
 "cells": [
  {
   "cell_type": "code",
   "execution_count": 3,
   "metadata": {},
   "outputs": [],
   "source": [
    "from snow_pc.align import clip_align, laz_align"
   ]
  },
  {
   "cell_type": "markdown",
   "metadata": {},
   "source": [
    "## Align with probe data"
   ]
  },
  {
   "cell_type": "code",
   "execution_count": 1,
   "metadata": {},
   "outputs": [
    {
     "name": "stdout",
     "output_type": "stream",
     "text": [
      "/SNOWDATA/IDALS/ASP\n"
     ]
    }
   ],
   "source": [
    "laz_fp = '/SNOWDATA/IDALS/2024/20231221/20231221_MCS_UAV/LiDAR/20231221_ULS/snow-pc/results/dtm.laz'\n",
    "align_file = '/SNOWDATA/IDALS/2024/20231221/calibration_data.csv'\n",
    "asp_dir = '/SNOWDATA/IDALS/ASP'\n",
    "user_dem = '/SNOWDATA/IDALS/REF_DEM/MCS_REFDEM_WGS84.tif'\n",
    "print(asp_dir)\n"
   ]
  },
  {
   "cell_type": "code",
   "execution_count": 4,
   "metadata": {},
   "outputs": [
    {
     "name": "stdout",
     "output_type": "stream",
     "text": [
      "\t--> Setting number of processing threads to: 4\n",
      "\n",
      "Creating output directory: \"/SNOWDATA/IDALS/2024/20231221/20231221_MCS_UAV/LiDAR/20231221_ULS/snow-pc/results/pc_align\".\n",
      "Writing log info to: /SNOWDATA/IDALS/2024/20231221/20231221_MCS_UAV/LiDAR/20231221_ULS/snow-pc/results/pc_align/dtm-align-log-pc_align-03-30-1138-23069.txt\n",
      "Detected datum from /SNOWDATA/IDALS/2024/20231221/20231221_MCS_UAV/LiDAR/20231221_ULS/snow-pc/results/dtm.laz:\n",
      "Geodetic Datum --> Name: WGS_1984  Spheroid: WGS 84  Semi-major axis: 6378137  Semi-minor axis: 6356752.3142451793  Meridian: Greenwich at 0  Proj4 Str: +datum=WGS84\n",
      "Will use datum (for CSV files): Geodetic Datum --> Name: WGS_1984  Spheroid: WGS 84  Semi-major axis: 6378137  Semi-minor axis: 6356752.3142451793  Meridian: Greenwich at 0  Proj4 Str: +datum=WGS84\n",
      "Computing the intersection of the bounding boxes of the reference and source points using 9000000 sample points.\n",
      "Reference box: (Origin: (-115.703, 43.9545) width: 0.0176455 height: 0.0146868)\n",
      "Source box:    (Origin: (-115.7, 43.9555) width: 0.0178429 height: 0.0109972)\n",
      "Intersection reference box:  (Origin: (-115.7, 43.9555) width: 0.0145034 height: 0.0109972)\n",
      "Intersection source    box:  (Origin: (-115.7, 43.9555) width: 0.0145034 height: 0.0109972)\n",
      "Intersection of bounding boxes took 12.1146 [s]\n",
      "Reading: /SNOWDATA/IDALS/2024/20231221/20231221_MCS_UAV/LiDAR/20231221_ULS/snow-pc/results/dtm.laz\n",
      "        --> [********************************************************] Complete!\n",
      "Loaded points: 12242176\n",
      "Loading the reference point cloud took 14.26 [s]\n",
      "Reading: /SNOWDATA/IDALS/2024/20231221/20231221_MCS_UAV/LiDAR/20231221_ULS/snow-pc/results/cal_data.csv\n",
      "Loaded points: 204\n",
      "Loading the source point cloud took 0.002578 [s]\n",
      "Data shifted internally by subtracting: Vector3(-1.99444e+06,-4.14531e+06,4.40668e+06)\n",
      "Building the reference cloud tree.\n",
      "Reference point cloud processing took 47.2433 [s]\n",
      "Filtering gross outliers\n",
      "Filtering gross outliers took 0.001178 [s]\n",
      "Reducing number of source points to 176\n",
      "Number of errors: 176\n",
      "Input: error percentile of smallest errors (meters): 16%: 0.190294, 50%: 0.571691, 84%: 0.858054\n",
      "Input: mean of smallest errors (meters): 25%: 0.165678, 50%: 0.315997, 75%: 0.436963, 100%: 0.551488\n",
      "Initial error computation took 0.000458 [s]\n"
     ]
    },
    {
     "name": "stderr",
     "output_type": "stream",
     "text": [
      "writing to /SNOWDATA/IDALS/2024/20231221/20231221_MCS_UAV/LiDAR/20231221_ULS/snow-pc/results/pc_align/dtm-align-iterationInfo.csv\n"
     ]
    },
    {
     "name": "stdout",
     "output_type": "stream",
     "text": [
      "Match ratio: 0.755682\n",
      "Alignment took 4.27692 [s]\n",
      "Number of errors: 176\n",
      "Output: error percentile of smallest errors (meters): 16%: 0.0457318, 50%: 0.0944933, 84%: 0.173378\n",
      "Output: mean of smallest errors (meters): 25%: 0.0371553, 50%: 0.057006, 75%: 0.0769469, 100%: 0.113017\n",
      "Final error computation took 0.000296 [s]\n",
      "Alignment transform (origin is planet center):\n",
      "                  1                   0                   0 -0.7383480409625918\n",
      "                  0                   1                   0  0.8817989761009812\n",
      "                  0                   0                   1 -0.3398350048810244\n",
      "                  0                   0                   0                   1\n",
      "Centroid of source points (Cartesian, meters): Vector3(-1994451.8,-4145325.9,4406667.2)\n",
      "Centroid of source points (lat,lon,z): Vector3(43.961448,-115.69373,2388.3224)\n",
      "\n",
      "Translation vector (Cartesian, meters): Vector3(-0.73834804,0.88179898,-0.339835)\n",
      "Translation vector (North-East-Down, meters): Vector3(0.084764576,-1.0476567,0.57744748)\n",
      "Translation vector magnitude (meters): 1.1992561\n",
      "Maximum displacement of points between the source cloud with any initial transform applied to it and the source cloud after alignment to the reference: 1.1992561 m\n",
      "Translation vector (lat,lon,z): Vector3(7.6259181e-07,-1.3048716e-05,-0.5774474)\n",
      "\n",
      "Transform scale - 1 = 0\n",
      "Euler angles (degrees): Vector3(0,-0,0)\n",
      "Euler angles (North-East-Down, degrees): Vector3(0,-0,3.8205218e-15)\n",
      "Axis of rotation and angle (degrees): Vector3(-nan,-nan,-nan) 0\n",
      "Writing: /SNOWDATA/IDALS/2024/20231221/20231221_MCS_UAV/LiDAR/20231221_ULS/snow-pc/results/pc_align/dtm-align-transform.txt\n",
      "Writing: /SNOWDATA/IDALS/2024/20231221/20231221_MCS_UAV/LiDAR/20231221_ULS/snow-pc/results/pc_align/dtm-align-inverse-transform.txt\n",
      "Writing: /SNOWDATA/IDALS/2024/20231221/20231221_MCS_UAV/LiDAR/20231221_ULS/snow-pc/results/pc_align/dtm-align-trans_reference.laz\n",
      "        --> [********************************************************] Complete!\n",
      "Writing: /SNOWDATA/IDALS/2024/20231221/20231221_MCS_UAV/LiDAR/20231221_ULS/snow-pc/results/pc_align/dtm-align-trans_source.csv\n",
      "        --> [********************************************************] Complete!%\n",
      "Writing: /SNOWDATA/IDALS/2024/20231221/20231221_MCS_UAV/LiDAR/20231221_ULS/snow-pc/results/pc_align/dtm-align-beg_errors.csv\n",
      "Writing: /SNOWDATA/IDALS/2024/20231221/20231221_MCS_UAV/LiDAR/20231221_ULS/snow-pc/results/pc_align/dtm-align-end_errors.csv\n",
      "Writing: /SNOWDATA/IDALS/2024/20231221/20231221_MCS_UAV/LiDAR/20231221_ULS/snow-pc/results/pc_align/dtm-align-iterationInfo.csv\n",
      "Saving to disk took 23.777484 [s]\n",
      "\t--> Setting number of processing threads to: 4\n",
      "Writing log info to: /SNOWDATA/IDALS/2024/20231221/20231221_MCS_UAV/LiDAR/20231221_ULS/snow-pc/results/dtm-align-log-point2dem-03-30-1140-23364.txt\n",
      "Writing temporary file: /SNOWDATA/IDALS/2024/20231221/20231221_MCS_UAV/LiDAR/20231221_ULS/snow-pc/results/dtm-align-tmp-dtm-align-trans_reference.tif\n",
      "        --> [********************************************************] Complete!\n",
      "The point cloud files must have an equal number of channels which must be 4 or 6 to be able to remove outliers.\n",
      "Statistics: [********************************************************] Complete!\n",
      "QuadTree: [**********************************************************] Complete!\n",
      "\t-- Starting DEM rasterization --\n",
      "\t--> DEM spacing: 0.5 pt/px\n",
      "\t             or: 2 px/pt\n",
      "Creating output file that is Vector2(1148,1194) px.\n",
      "Writing: /SNOWDATA/IDALS/2024/20231221/20231221_MCS_UAV/LiDAR/20231221_ULS/snow-pc/results/dtm-align-DEM.tif\n",
      "DEM: [***************************************************************] Complete!\n",
      "Percentage of valid pixels: 52.4592%\n"
     ]
    },
    {
     "data": {
      "text/plain": [
       "'/SNOWDATA/IDALS/2024/20231221/20231221_MCS_UAV/LiDAR/20231221_ULS/snow-pc/results/dtm-align-DEM.tif'"
      ]
     },
     "execution_count": 4,
     "metadata": {},
     "output_type": "execute_result"
    }
   ],
   "source": [
    "laz_align(laz_fp, align_file, asp_dir, user_dem)"
   ]
  },
  {
   "cell_type": "code",
   "execution_count": null,
   "metadata": {},
   "outputs": [],
   "source": []
  }
 ],
 "metadata": {
  "kernelspec": {
   "display_name": "geo",
   "language": "python",
   "name": "python3"
  },
  "language_info": {
   "codemirror_mode": {
    "name": "ipython",
    "version": 3
   },
   "file_extension": ".py",
   "mimetype": "text/x-python",
   "name": "python",
   "nbconvert_exporter": "python",
   "pygments_lexer": "ipython3",
   "version": "3.12.2"
  }
 },
 "nbformat": 4,
 "nbformat_minor": 2
}
