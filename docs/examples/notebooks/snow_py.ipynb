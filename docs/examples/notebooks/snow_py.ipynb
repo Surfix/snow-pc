{
 "cells": [
  {
   "cell_type": "code",
   "execution_count": 3,
   "metadata": {},
   "outputs": [],
   "source": [
    "from snow_pc import pc2uncorrectedDEM, pc2correctedDEM"
   ]
  },
  {
   "cell_type": "code",
   "execution_count": 4,
   "metadata": {},
   "outputs": [],
   "source": [
    "# in_dir = '/SNOWDATA/IDALS/2024/20231113/20231113_MCS_ULS'\n",
    "# dem_fp = '/SNOWDATA/IDALS/REF_DEM/MCS_REFDEM_WGS84.tif'\n",
    "\n",
    "# dtm_laz, dtm_tif, dsm_laz, dsm_tif = pc2uncorrectedDEM(in_dir, user_dem = dem_fp)"
   ]
  },
  {
   "cell_type": "code",
   "execution_count": 1,
   "metadata": {},
   "outputs": [],
   "source": [
    "# in_dir = '/SNOWDATA/IDALS/2024/20231113/20231113_MCS_ULS'\n",
    "# dem_fp = '/SNOWDATA/IDALS/REF_DEM/MCS_REFDEM_WGS84.tif'\n",
    "# align_shp = '/home/naheemadebisi/nfs_home/snow-analytics/snow-pc/transform_area/hwy_21/hwy21_utm_edit_v3.shp'\n",
    "# asp_dir = '/SNOWDATA/IDALS/ASP'\n",
    "\n",
    "# pc2correctedDEM(in_dir, align_shp, asp_dir, user_dem = dem_fp)"
   ]
  },
  {
   "cell_type": "code",
   "execution_count": null,
   "metadata": {},
   "outputs": [],
   "source": []
  }
 ],
 "metadata": {
  "kernelspec": {
   "display_name": "geo",
   "language": "python",
   "name": "python3"
  },
  "language_info": {
   "codemirror_mode": {
    "name": "ipython",
    "version": 3
   },
   "file_extension": ".py",
   "mimetype": "text/x-python",
   "name": "python",
   "nbconvert_exporter": "python",
   "pygments_lexer": "ipython3",
   "version": "3.12.2"
  }
 },
 "nbformat": 4,
 "nbformat_minor": 2
}
