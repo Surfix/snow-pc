{
 "cells": [
  {
   "cell_type": "code",
   "execution_count": 1,
   "metadata": {},
   "outputs": [],
   "source": [
    "import snow_pc"
   ]
  },
  {
   "cell_type": "code",
   "execution_count": 2,
   "metadata": {},
   "outputs": [
    {
     "data": {
      "application/vnd.jupyter.widget-view+json": {
       "model_id": "d0fee83dceb84b65ae8e9d8bf924d005",
       "version_major": 2,
       "version_minor": 0
      },
      "text/plain": [
       "Map(center=[40, -100], controls=(ZoomControl(options=['position', 'zoom_in_text', 'zoom_in_title', 'zoom_out_t…"
      ]
     },
     "execution_count": 2,
     "metadata": {},
     "output_type": "execute_result"
    }
   ],
   "source": [
    "m = snow_pc.Map(center = [40, -100], zoom = 4, layers_control = False) #if user do not want to use layers_control, set layers_control = False\n",
    "m"
   ]
  },
  {
   "cell_type": "markdown",
   "metadata": {},
   "source": [
    "Add layer and search control"
   ]
  },
  {
   "cell_type": "code",
   "execution_count": 3,
   "metadata": {},
   "outputs": [
    {
     "data": {
      "application/vnd.jupyter.widget-view+json": {
       "model_id": "d16ab947cb0f4621bc55b7cdd64921c1",
       "version_major": 2,
       "version_minor": 0
      },
      "text/plain": [
       "Map(center=[40, -100], controls=(ZoomControl(options=['position', 'zoom_in_text', 'zoom_in_title', 'zoom_out_t…"
      ]
     },
     "execution_count": 3,
     "metadata": {},
     "output_type": "execute_result"
    }
   ],
   "source": [
    "#Users can add layers and search control to the map\n",
    "m = snow_pc.Map(center = [40, -100], zoom = 4, layers_control = False)\n",
    "m.add_LayerControl()\n",
    "m.add_search_control()\n",
    "m\n"
   ]
  },
  {
   "cell_type": "markdown",
   "metadata": {},
   "source": [
    "Add basemap"
   ]
  },
  {
   "cell_type": "code",
   "execution_count": 4,
   "metadata": {},
   "outputs": [
    {
     "data": {
      "application/vnd.jupyter.widget-view+json": {
       "model_id": "a3ef1f30a8a9461287424bad7c99ad00",
       "version_major": 2,
       "version_minor": 0
      },
      "text/plain": [
       "Map(center=[40, -100], controls=(ZoomControl(options=['position', 'zoom_in_text', 'zoom_in_title', 'zoom_out_t…"
      ]
     },
     "execution_count": 4,
     "metadata": {},
     "output_type": "execute_result"
    }
   ],
   "source": [
    "#Users can add layers and search control to the map\n",
    "m = snow_pc.Map(center = [40, -100], zoom = 4, layers_control = False)\n",
    "m.add_LayerControl()\n",
    "m.add_search_control()\n",
    "m.add_basemap('OpenTopoMap') #use one of the predefined words\n",
    "m"
   ]
  },
  {
   "cell_type": "code",
   "execution_count": 5,
   "metadata": {},
   "outputs": [
    {
     "name": "stdout",
     "output_type": "stream",
     "text": [
      "https://server.arcgisonline.com/ArcGIS/rest/services/World_Imagery/MapServer/tile/{z}/{y}/{x} Esri.WorldImagery\n"
     ]
    },
    {
     "data": {
      "application/vnd.jupyter.widget-view+json": {
       "model_id": "acbed2244d994365b5c5d5de5c3f11c4",
       "version_major": 2,
       "version_minor": 0
      },
      "text/plain": [
       "Map(center=[40, -100], controls=(ZoomControl(options=['position', 'zoom_in_text', 'zoom_in_title', 'zoom_out_t…"
      ]
     },
     "execution_count": 5,
     "metadata": {},
     "output_type": "execute_result"
    }
   ],
   "source": [
    "#Users can add layers and search control to the map\n",
    "m = snow_pc.Map(center = [40, -100], zoom = 4, layers_control = False)\n",
    "m.add_basemap(\"Esri.WorldImagery\") #fnd the basedmap using xyz services\n",
    "m"
   ]
  },
  {
   "cell_type": "markdown",
   "metadata": {},
   "source": [
    "Add vector layer"
   ]
  },
  {
   "cell_type": "code",
   "execution_count": 6,
   "metadata": {},
   "outputs": [
    {
     "data": {
      "application/vnd.jupyter.widget-view+json": {
       "model_id": "bdc66921b7ba478a9c2669654c6afe18",
       "version_major": 2,
       "version_minor": 0
      },
      "text/plain": [
       "Map(center=[44, -114], controls=(ZoomControl(options=['position', 'zoom_in_text', 'zoom_in_title', 'zoom_out_t…"
      ]
     },
     "execution_count": 6,
     "metadata": {},
     "output_type": "execute_result"
    }
   ],
   "source": [
    "#Users can add layers and search control to the map\n",
    "m = snow_pc.Map(center = [44, -114], zoom = 5)\n",
    "m.add_geojson('data/idaho_sites.geojson', name = 'Idaho Sites') #add geojson file\n",
    "m"
   ]
  },
  {
   "cell_type": "markdown",
   "metadata": {},
   "source": []
  },
  {
   "cell_type": "code",
   "execution_count": 9,
   "metadata": {},
   "outputs": [
    {
     "data": {
      "application/vnd.jupyter.widget-view+json": {
       "model_id": "be60ec8d1a60465690d1067154d2017a",
       "version_major": 2,
       "version_minor": 0
      },
      "text/plain": [
       "Map(center=[44, -114], controls=(ZoomControl(options=['position', 'zoom_in_text', 'zoom_in_title', 'zoom_out_t…"
      ]
     },
     "execution_count": 9,
     "metadata": {},
     "output_type": "execute_result"
    }
   ],
   "source": [
    "m = snow_pc.Map(center = [44, -114], zoom = 3)\n",
    "m.add_shp('data/countries.zip') #add shapefile\n",
    "m"
   ]
  },
  {
   "cell_type": "code",
   "execution_count": 1,
   "metadata": {},
   "outputs": [],
   "source": [
    "from snow_pc import prep_point_clouds"
   ]
  },
  {
   "cell_type": "code",
   "execution_count": 2,
   "metadata": {},
   "outputs": [
    {
     "name": "stderr",
     "output_type": "stream",
     "text": [
      "No mosaic created\n"
     ]
    },
    {
     "name": "stdout",
     "output_type": "stream",
     "text": [
      "Number of las files: 37\n",
      "Working in directory: C:\\Users\\naheemadebisi\\Downloads\\dev_work\\20221208_MCS\n",
      "Number of files to mosaic: 37\n",
      "Mosaicing to C:\\Users\\naheemadebisi\\Downloads\\dev_work\\20221208_MCS\\ice-road\\results\\unfiltered_merge.laz\n",
      "Using mosaic command: pdal merge C:\\Users\\naheemadebisi\\Downloads\\dev_work\\20221208_MCS\\20221208_MCS-221208_174435_Scanner_1.laz C:\\Users\\naheemadebisi\\Downloads\\dev_work\\20221208_MCS\\20221208_MCS-221208_174859_Scanner_1.laz C:\\Users\\naheemadebisi\\Downloads\\dev_work\\20221208_MCS\\20221208_MCS-221208_175745_Scanner_1.laz C:\\Users\\naheemadebisi\\Downloads\\dev_work\\20221208_MCS\\20221208_MCS-221208_180924_Scanner_1.laz C:\\Users\\naheemadebisi\\Downloads\\dev_work\\20221208_MCS\\20221208_MCS-221208_181408_Scanner_1.laz C:\\Users\\naheemadebisi\\Downloads\\dev_work\\20221208_MCS\\20221208_MCS-221208_181947_Scanner_1.laz C:\\Users\\naheemadebisi\\Downloads\\dev_work\\20221208_MCS\\20221208_MCS-221208_182537_Scanner_1.laz C:\\Users\\naheemadebisi\\Downloads\\dev_work\\20221208_MCS\\20221208_MCS-221208_183125_Scanner_1.laz C:\\Users\\naheemadebisi\\Downloads\\dev_work\\20221208_MCS\\20221208_MCS-221208_183644_Scanner_1.laz C:\\Users\\naheemadebisi\\Downloads\\dev_work\\20221208_MCS\\20221208_MCS-221208_184238_Scanner_1.laz C:\\Users\\naheemadebisi\\Downloads\\dev_work\\20221208_MCS\\20221208_MCS-221208_184810_Scanner_1.laz C:\\Users\\naheemadebisi\\Downloads\\dev_work\\20221208_MCS\\20221208_MCS-221208_185413_Scanner_1.laz C:\\Users\\naheemadebisi\\Downloads\\dev_work\\20221208_MCS\\20221208_MCS-221208_190009_Scanner_1.laz C:\\Users\\naheemadebisi\\Downloads\\dev_work\\20221208_MCS\\20221208_MCS-221208_190533_Scanner_1.laz C:\\Users\\naheemadebisi\\Downloads\\dev_work\\20221208_MCS\\20221208_MCS-221208_191109_Scanner_1.laz C:\\Users\\naheemadebisi\\Downloads\\dev_work\\20221208_MCS\\20221208_MCS-221208_191707_Scanner_1.laz C:\\Users\\naheemadebisi\\Downloads\\dev_work\\20221208_MCS\\20221208_MCS-221208_192233_Scanner_1.laz C:\\Users\\naheemadebisi\\Downloads\\dev_work\\20221208_MCS\\20221208_MCS-221208_192753_Scanner_1.laz C:\\Users\\naheemadebisi\\Downloads\\dev_work\\20221208_MCS\\20221208_MCS-221208_193340_Scanner_1.laz C:\\Users\\naheemadebisi\\Downloads\\dev_work\\20221208_MCS\\20221208_MCS-221208_205921_Scanner_1.laz C:\\Users\\naheemadebisi\\Downloads\\dev_work\\20221208_MCS\\20221208_MCS-221208_212228_Scanner_1.laz C:\\Users\\naheemadebisi\\Downloads\\dev_work\\20221208_MCS\\20221208_MCS-221208_212916_Scanner_1.laz C:\\Users\\naheemadebisi\\Downloads\\dev_work\\20221208_MCS\\20221208_MCS-221208_213544_Scanner_1.laz C:\\Users\\naheemadebisi\\Downloads\\dev_work\\20221208_MCS\\20221208_MCS-221208_214304_Scanner_1.laz C:\\Users\\naheemadebisi\\Downloads\\dev_work\\20221208_MCS\\20221208_MCS-221208_215009_Scanner_1.laz C:\\Users\\naheemadebisi\\Downloads\\dev_work\\20221208_MCS\\20221208_MCS-221208_215751_Scanner_1.laz C:\\Users\\naheemadebisi\\Downloads\\dev_work\\20221208_MCS\\20221208_MCS-221208_220439_Scanner_1.laz C:\\Users\\naheemadebisi\\Downloads\\dev_work\\20221208_MCS\\20221208_MCS-221208_221144_Scanner_1.laz C:\\Users\\naheemadebisi\\Downloads\\dev_work\\20221208_MCS\\20221208_MCS-221208_222029_Scanner_1.laz C:\\Users\\naheemadebisi\\Downloads\\dev_work\\20221208_MCS\\20221208_MCS-221208_224741_Scanner_1.laz C:\\Users\\naheemadebisi\\Downloads\\dev_work\\20221208_MCS\\20221208_MCS-221208_225008_Scanner_1.laz C:\\Users\\naheemadebisi\\Downloads\\dev_work\\20221208_MCS\\20221208_MCS-221208_225310_Scanner_1.laz C:\\Users\\naheemadebisi\\Downloads\\dev_work\\20221208_MCS\\20221208_MCS-221208_225703_Scanner_1.laz C:\\Users\\naheemadebisi\\Downloads\\dev_work\\20221208_MCS\\20221208_MCS-221208_230017_Scanner_1.laz C:\\Users\\naheemadebisi\\Downloads\\dev_work\\20221208_MCS\\20221208_MCS-221208_230627_Scanner_1.laz C:\\Users\\naheemadebisi\\Downloads\\dev_work\\20221208_MCS\\20221208_MCS-221208_230925_Scanner_1.laz C:\\Users\\naheemadebisi\\Downloads\\dev_work\\20221208_MCS\\20221208_MCS-221208_231453_Scanner_1.laz C:\\Users\\naheemadebisi\\Downloads\\dev_work\\20221208_MCS\\ice-road\\results\\unfiltered_merge.laz\n",
      "Running mosaic command...!!!!!!!!!!!!!!!\n",
      "Mosaiced to C:\\Users\\naheemadebisi\\Downloads\\dev_work\\20221208_MCS\\ice-road\\results\\unfiltered_merge.laz\n",
      "Mosaiced to C:\\Users\\naheemadebisi\\Downloads\\dev_work\\20221208_MCS\\ice-road\\results\\unfiltered_merge.laz\n"
     ]
    },
    {
     "data": {
      "text/plain": [
       "-1"
      ]
     },
     "execution_count": 2,
     "metadata": {},
     "output_type": "execute_result"
    }
   ],
   "source": [
    "prep_point_clouds(r\"C:\\Users\\naheemadebisi\\Downloads\\dev_work\\20221208_MCS\")"
   ]
  },
  {
   "cell_type": "code",
   "execution_count": null,
   "metadata": {},
   "outputs": [],
   "source": []
  }
 ],
 "metadata": {
  "kernelspec": {
   "display_name": "geo",
   "language": "python",
   "name": "python3"
  },
  "language_info": {
   "codemirror_mode": {
    "name": "ipython",
    "version": 3
   },
   "file_extension": ".py",
   "mimetype": "text/x-python",
   "name": "python",
   "nbconvert_exporter": "python",
   "pygments_lexer": "ipython3",
   "version": "3.12.1"
  }
 },
 "nbformat": 4,
 "nbformat_minor": 2
}
