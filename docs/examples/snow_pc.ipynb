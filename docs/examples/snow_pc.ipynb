{
 "cells": [
  {
   "cell_type": "code",
   "execution_count": 1,
   "metadata": {},
   "outputs": [],
   "source": [
    "import snow_pc"
   ]
  },
  {
   "cell_type": "code",
   "execution_count": 2,
   "metadata": {},
   "outputs": [
    {
     "data": {
      "application/vnd.jupyter.widget-view+json": {
       "model_id": "892962e148784529913eaeb59a65a43d",
       "version_major": 2,
       "version_minor": 0
      },
      "text/plain": [
       "Map(center=[40, -100], controls=(ZoomControl(options=['position', 'zoom_in_text', 'zoom_in_title', 'zoom_out_t…"
      ]
     },
     "execution_count": 2,
     "metadata": {},
     "output_type": "execute_result"
    }
   ],
   "source": [
    "m = snow_pc.Map(center = [40, -100], zoom = 4, layers_control = False) #if user do not want to use layers_control, set layers_control = False\n",
    "m"
   ]
  },
  {
   "cell_type": "markdown",
   "metadata": {},
   "source": [
    "Add layer and search control"
   ]
  },
  {
   "cell_type": "code",
   "execution_count": 3,
   "metadata": {},
   "outputs": [
    {
     "data": {
      "application/vnd.jupyter.widget-view+json": {
       "model_id": "8d587ddffe91445aa31ed963ddb22a08",
       "version_major": 2,
       "version_minor": 0
      },
      "text/plain": [
       "Map(center=[40, -100], controls=(ZoomControl(options=['position', 'zoom_in_text', 'zoom_in_title', 'zoom_out_t…"
      ]
     },
     "execution_count": 3,
     "metadata": {},
     "output_type": "execute_result"
    }
   ],
   "source": [
    "#Users can add layers and search control to the map\n",
    "m = snow_pc.Map(center = [40, -100], zoom = 4, layers_control = False)\n",
    "m.add_LayerControl()\n",
    "m.add_search_control()\n",
    "m\n"
   ]
  },
  {
   "cell_type": "markdown",
   "metadata": {},
   "source": [
    "Add basemap"
   ]
  },
  {
   "cell_type": "code",
   "execution_count": 4,
   "metadata": {},
   "outputs": [
    {
     "data": {
      "application/vnd.jupyter.widget-view+json": {
       "model_id": "65962dca67954f01806b365e78ce5a5a",
       "version_major": 2,
       "version_minor": 0
      },
      "text/plain": [
       "Map(center=[40, -100], controls=(ZoomControl(options=['position', 'zoom_in_text', 'zoom_in_title', 'zoom_out_t…"
      ]
     },
     "execution_count": 4,
     "metadata": {},
     "output_type": "execute_result"
    }
   ],
   "source": [
    "#Users can add layers and search control to the map\n",
    "m = snow_pc.Map(center = [40, -100], zoom = 4, layers_control = False)\n",
    "m.add_LayerControl()\n",
    "m.add_search_control()\n",
    "m.add_basemap('OpenTopoMap') #use one of the predefined words\n",
    "m"
   ]
  },
  {
   "cell_type": "code",
   "execution_count": 5,
   "metadata": {},
   "outputs": [
    {
     "name": "stdout",
     "output_type": "stream",
     "text": [
      "https://server.arcgisonline.com/ArcGIS/rest/services/World_Imagery/MapServer/tile/{z}/{y}/{x} Esri.WorldImagery\n"
     ]
    },
    {
     "data": {
      "application/vnd.jupyter.widget-view+json": {
       "model_id": "2f6cd4090a3b48c994a63fcc1de2ceab",
       "version_major": 2,
       "version_minor": 0
      },
      "text/plain": [
       "Map(center=[40, -100], controls=(ZoomControl(options=['position', 'zoom_in_text', 'zoom_in_title', 'zoom_out_t…"
      ]
     },
     "execution_count": 5,
     "metadata": {},
     "output_type": "execute_result"
    }
   ],
   "source": [
    "#Users can add layers and search control to the map\n",
    "m = snow_pc.Map(center = [40, -100], zoom = 4, layers_control = False)\n",
    "m.add_basemap(\"Esri.WorldImagery\") #fnd the basedmap using xyz services\n",
    "m"
   ]
  },
  {
   "cell_type": "markdown",
   "metadata": {},
   "source": [
    "Add vector layer"
   ]
  },
  {
   "cell_type": "code",
   "execution_count": 6,
   "metadata": {},
   "outputs": [
    {
     "data": {
      "application/vnd.jupyter.widget-view+json": {
       "model_id": "381d9ee6553a4683908ab8b685f29c64",
       "version_major": 2,
       "version_minor": 0
      },
      "text/plain": [
       "Map(center=[44, -114], controls=(ZoomControl(options=['position', 'zoom_in_text', 'zoom_in_title', 'zoom_out_t…"
      ]
     },
     "execution_count": 6,
     "metadata": {},
     "output_type": "execute_result"
    }
   ],
   "source": [
    "#Users can add layers and search control to the map\n",
    "m = snow_pc.Map(center = [44, -114], zoom = 5)\n",
    "m.add_geojson('data/idaho_sites.geojson', name = 'Idaho Sites') #add geojson file\n",
    "m"
   ]
  },
  {
   "cell_type": "markdown",
   "metadata": {},
   "source": []
  },
  {
   "cell_type": "code",
   "execution_count": 7,
   "metadata": {},
   "outputs": [
    {
     "data": {
      "application/vnd.jupyter.widget-view+json": {
       "model_id": "cdded5c36baf4c0ca51c958d9a7dae81",
       "version_major": 2,
       "version_minor": 0
      },
      "text/plain": [
       "Map(center=[44, -114], controls=(ZoomControl(options=['position', 'zoom_in_text', 'zoom_in_title', 'zoom_out_t…"
      ]
     },
     "execution_count": 7,
     "metadata": {},
     "output_type": "execute_result"
    }
   ],
   "source": [
    "m = snow_pc.Map(center = [44, -114], zoom = 3)\n",
    "m.add_shp('data/countries.zip') #add shapefile\n",
    "m"
   ]
  },
  {
   "cell_type": "code",
   "execution_count": 1,
   "metadata": {},
   "outputs": [],
   "source": [
    "from snow_pc import prepare_pc, pc2uncorrectedDEM, laz2uncorectedDEM"
   ]
  },
  {
   "cell_type": "code",
   "execution_count": 2,
   "metadata": {},
   "outputs": [
    {
     "name": "stdout",
     "output_type": "stream",
     "text": [
      "Working in directory: C:\\Users\\naheemadebisi\\Downloads\\dev_work\\20221208_MCS_3\n",
      "White spaces found in file paths. Removing...\n",
      "Running command: ['pdal', 'merge', 'C:\\\\Users\\\\naheemadebisi\\\\Downloads\\\\dev_work\\\\20221208_MCS_3\\\\20221208_MCS-221208_224741_Scanner_1.laz', 'C:\\\\Users\\\\naheemadebisi\\\\Downloads\\\\dev_work\\\\20221208_MCS_3\\\\20221208_MCS-221208_225008_Scanner_1.laz', 'C:\\\\Users\\\\naheemadebisi\\\\Downloads\\\\dev_work\\\\20221208_MCS_3\\\\ice-road\\\\results\\\\unfiltered_merge.laz']\n",
      "Merged 2 LAZ files into C:\\Users\\naheemadebisi\\Downloads\\dev_work\\20221208_MCS_3\\ice-road\\results\\unfiltered_merge.laz\n"
     ]
    },
    {
     "data": {
      "text/plain": [
       "'C:\\\\Users\\\\naheemadebisi\\\\Downloads\\\\dev_work\\\\20221208_MCS_3\\\\ice-road\\\\results\\\\unfiltered_merge.laz'"
      ]
     },
     "execution_count": 2,
     "metadata": {},
     "output_type": "execute_result"
    }
   ],
   "source": [
    "# prepare_pc(r\"C:\\Users\\naheemadebisi\\Downloads\\dev_work\\20221208_MCS_3\")"
   ]
  },
  {
   "cell_type": "markdown",
   "metadata": {},
   "source": [
    "#read, explore and view the LiDAR (Use geefmap class)"
   ]
  },
  {
   "cell_type": "code",
   "execution_count": 2,
   "metadata": {},
   "outputs": [
    {
     "name": "stdout",
     "output_type": "stream",
     "text": [
      "User DEM specified. Skipping DEM download...\n",
      "Creating DTM Pipeline...\n",
      "Running DTM pipeline\n",
      "Creating Canopy Pipeline...\n",
      "Running Canopy pipeline\n"
     ]
    },
    {
     "data": {
      "text/plain": [
       "('C:\\\\Users\\\\naheemadebisi\\\\Downloads\\\\dev_work\\\\20221208_MCS_3\\\\ice-road\\\\results\\\\_unaligned.tif',\n",
       " 'C:\\\\Users\\\\naheemadebisi\\\\Downloads\\\\dev_work\\\\20221208_MCS_3\\\\ice-road\\\\results\\\\_unaligned.laz',\n",
       " 'C:\\\\Users\\\\naheemadebisi\\\\Downloads\\\\dev_work\\\\20221208_MCS_3\\\\ice-road\\\\results\\\\_canopy_unaligned.laz')"
      ]
     },
     "execution_count": 2,
     "metadata": {},
     "output_type": "execute_result"
    }
   ],
   "source": [
    "dtm_tif, dtm_laz, canopy_laz = pc2uncorrectedDEM(r'C:\\Users\\naheemadebisi\\Downloads\\dev_work\\20221208_MCS_3\\ice-road\\results\\unfiltered_merge.laz', r'C:\\Users\\naheemadebisi\\Downloads\\dev_work\\dem.tif')"
   ]
  },
  {
   "cell_type": "markdown",
   "metadata": {},
   "source": [
    "#clip the point clouds to a small region fr better visualization and processing"
   ]
  },
  {
   "cell_type": "code",
   "execution_count": null,
   "metadata": {},
   "outputs": [],
   "source": []
  }
 ],
 "metadata": {
  "kernelspec": {
   "display_name": "geo",
   "language": "python",
   "name": "python3"
  },
  "language_info": {
   "codemirror_mode": {
    "name": "ipython",
    "version": 3
   },
   "file_extension": ".py",
   "mimetype": "text/x-python",
   "name": "python",
   "nbconvert_exporter": "python",
   "pygments_lexer": "ipython3",
   "version": "3.12.1"
  }
 },
 "nbformat": 4,
 "nbformat_minor": 2
}
