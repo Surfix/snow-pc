{
 "cells": [
  {
   "cell_type": "code",
   "execution_count": 1,
   "metadata": {},
   "outputs": [],
   "source": [
    "from snow_pc.align import clip_align, laz_align"
   ]
  },
  {
   "cell_type": "code",
   "execution_count": 1,
   "metadata": {},
   "outputs": [],
   "source": [
    "# laz_fp = '/SNOWDATA/IDALS/2024/20231113/20231113_MCS_ULS/snow-pc/results/dtm.laz'\n",
    "# align_shp = '/home/naheemadebisi/nfs_home/snow-analytics/snow-pc/transform_area/hwy_21/hwy21_utm_edit_v3.shp'\n",
    "# asp_dir = '/SNOWDATA/IDALS/ASP'\n",
    "# print(asp_dir)\n"
   ]
  },
  {
   "cell_type": "code",
   "execution_count": 2,
   "metadata": {},
   "outputs": [],
   "source": [
    "# laz_align(laz_fp, align_shp, asp_dir)"
   ]
  },
  {
   "cell_type": "code",
   "execution_count": null,
   "metadata": {},
   "outputs": [],
   "source": []
  }
 ],
 "metadata": {
  "kernelspec": {
   "display_name": "geo",
   "language": "python",
   "name": "python3"
  },
  "language_info": {
   "codemirror_mode": {
    "name": "ipython",
    "version": 3
   },
   "file_extension": ".py",
   "mimetype": "text/x-python",
   "name": "python",
   "nbconvert_exporter": "python",
   "pygments_lexer": "ipython3",
   "version": "3.12.2"
  }
 },
 "nbformat": 4,
 "nbformat_minor": 2
}
